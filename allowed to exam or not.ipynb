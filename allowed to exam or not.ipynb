{
 "cells": [
  {
   "cell_type": "code",
   "execution_count": null,
   "id": "262848ba-d695-45f1-a1d0-f1e6f44f5cce",
   "metadata": {},
   "outputs": [],
   "source": [
    "#A student will not be allowed to sit in an exam if his/her attendance is less than 75%."
   ]
  },
  {
   "cell_type": "code",
   "execution_count": 5,
   "id": "e75f5e6a-66f6-4abd-a337-0924630f2ad0",
   "metadata": {},
   "outputs": [
    {
     "name": "stdin",
     "output_type": "stream",
     "text": [
      "How many days class are held: 100\n",
      "How many days he/she joined class: 80\n"
     ]
    },
    {
     "name": "stdout",
     "output_type": "stream",
     "text": [
      "He/She attend class: 80.0\n",
      "He/she allow to exam.\n"
     ]
    }
   ],
   "source": [
    "cls_held = float(input(\"How many days class are held:\"))\n",
    "cls_join= float(input(\"How many days he/she joined class:\"))\n",
    "cls_atnd=(cls_join/cls_held)*100\n",
    "print(\"He/She attend class:\", cls_atnd)\n",
    "if cls_atnd>=75:\n",
    "    print(\"He/she allow to exam.\")\n",
    "else:\n",
    "    print(\"He/She not allow to exam.\")"
   ]
  },
  {
   "cell_type": "code",
   "execution_count": null,
   "id": "8d5abe3f-0c42-4bcf-a889-a55b8dff1e3b",
   "metadata": {},
   "outputs": [],
   "source": []
  }
 ],
 "metadata": {
  "kernelspec": {
   "display_name": "Python 3 (ipykernel)",
   "language": "python",
   "name": "python3"
  },
  "language_info": {
   "codemirror_mode": {
    "name": "ipython",
    "version": 3
   },
   "file_extension": ".py",
   "mimetype": "text/x-python",
   "name": "python",
   "nbconvert_exporter": "python",
   "pygments_lexer": "ipython3",
   "version": "3.11.4"
  }
 },
 "nbformat": 4,
 "nbformat_minor": 5
}
