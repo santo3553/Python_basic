{
 "cells": [
  {
   "cell_type": "code",
   "execution_count": null,
   "id": "6ff0d31f-2a9c-4d14-b914-99940ece412e",
   "metadata": {},
   "outputs": [],
   "source": [
    "#A school has the following rules for the grading system:\n",
    "Below 25 – F, 25 to 44 – E, 45 to 49 – D, 50 to 59 – C, 60 to 79 – B, 80 to 89 - A, Above 90 - A+\n",
    "Now, Ask the user to enter marks and print the corresponding grade."
   ]
  },
  {
   "cell_type": "code",
   "execution_count": 38,
   "id": "76e67558-1a94-43e3-afc9-810101373bd3",
   "metadata": {},
   "outputs": [
    {
     "name": "stdin",
     "output_type": "stream",
     "text": [
      "Please enter your subject-1 number: 76\n",
      "Please enter your subject-2 number: 86\n",
      "Please enter your subject-3 number: 55\n",
      "Please enter your subject-4 number: 67\n",
      "Please enter your subject-5 number: 98\n"
     ]
    },
    {
     "name": "stdout",
     "output_type": "stream",
     "text": [
      "Your total number: 382.0\n",
      "Your avg number is: 76.4\n",
      "You got B Grade\n"
     ]
    }
   ],
   "source": [
    "sub1= float(input(\"Please enter your subject-1 number:\"))\n",
    "sub2= float(input(\"Please enter your subject-2 number:\"))\n",
    "sub3= float(input(\"Please enter your subject-3 number:\"))\n",
    "sub4= float(input(\"Please enter your subject-4 number:\"))\n",
    "sub5= float(input(\"Please enter your subject-5 number:\"))\n",
    "total=sub1+sub2+sub3+sub4+sub5\n",
    "print(\"Your total number:\", total)\n",
    "x=total/5\n",
    "print(\"Your avg number is:\",x)\n",
    "if x<25 and x>0:\n",
    "            print(\"you got F Grade\")\n",
    "elif x >= 25 and x <= 44:\n",
    "    print(\"You got E Grade\")\n",
    "elif x >= 45 and x <= 49:\n",
    "    print(\"You got D Grade\")\n",
    "elif x >= 50 and x <= 59:\n",
    "    print(\"You got C Grade\")\n",
    "elif x >= 60 and x <= 79:\n",
    "    print(\"You got B Grade\")\n",
    "elif x >= 80 and x <= 89:\n",
    "    print(\"You got A Grade\")\n",
    "elif x >= 90 and x <= 100:\n",
    "    print(\"You got A+ Grade\")\n",
    "else:\n",
    "    print(\"Please input a valid number.\")\n",
    "        "
   ]
  },
  {
   "cell_type": "code",
   "execution_count": null,
   "id": "404419ea-bf81-4282-b1eb-d97680f8f16f",
   "metadata": {},
   "outputs": [],
   "source": []
  }
 ],
 "metadata": {
  "kernelspec": {
   "display_name": "Python 3 (ipykernel)",
   "language": "python",
   "name": "python3"
  },
  "language_info": {
   "codemirror_mode": {
    "name": "ipython",
    "version": 3
   },
   "file_extension": ".py",
   "mimetype": "text/x-python",
   "name": "python",
   "nbconvert_exporter": "python",
   "pygments_lexer": "ipython3",
   "version": "3.11.4"
  }
 },
 "nbformat": 4,
 "nbformat_minor": 5
}
