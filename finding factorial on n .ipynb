{
 "cells": [
  {
   "cell_type": "code",
   "execution_count": null,
   "id": "40796b21-31ab-448a-8803-1046db040c9e",
   "metadata": {},
   "outputs": [],
   "source": [
    "#Find the factorial of an n!"
   ]
  },
  {
   "cell_type": "code",
   "execution_count": 1,
   "id": "b52dd1c7-4ed8-4742-9dca-efc0ec92a425",
   "metadata": {},
   "outputs": [
    {
     "name": "stdout",
     "output_type": "stream",
     "text": [
      "The factorial of 5 is: 120\n"
     ]
    }
   ],
   "source": [
    "def factorial_iterative(n):\n",
    "    result = 1\n",
    "    for i in range(1, n + 1):\n",
    "        result *= i\n",
    "    return result\n",
    "\n",
    "n = 5 \n",
    "result = factorial_iterative(n)\n",
    "print(f\"The factorial of {n} is: {result}\")\n"
   ]
  },
  {
   "cell_type": "code",
   "execution_count": null,
   "id": "f83dd17b-b42e-416f-ae9b-fd7635f50b4f",
   "metadata": {},
   "outputs": [],
   "source": []
  }
 ],
 "metadata": {
  "kernelspec": {
   "display_name": "Python 3 (ipykernel)",
   "language": "python",
   "name": "python3"
  },
  "language_info": {
   "codemirror_mode": {
    "name": "ipython",
    "version": 3
   },
   "file_extension": ".py",
   "mimetype": "text/x-python",
   "name": "python",
   "nbconvert_exporter": "python",
   "pygments_lexer": "ipython3",
   "version": "3.11.4"
  }
 },
 "nbformat": 4,
 "nbformat_minor": 5
}
