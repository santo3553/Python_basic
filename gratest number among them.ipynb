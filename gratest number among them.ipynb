{
 "cells": [
  {
   "cell_type": "code",
   "execution_count": null,
   "id": "0ce2f6b1-f60b-4b52-b934-50196c1dfa00",
   "metadata": {},
   "outputs": [],
   "source": [
    "#Take three integer values from the user and print the greatest among them."
   ]
  },
  {
   "cell_type": "code",
   "execution_count": 4,
   "id": "c8753738-981f-4385-9e48-5c5d681e82d7",
   "metadata": {},
   "outputs": [
    {
     "name": "stdin",
     "output_type": "stream",
     "text": [
      "please input a integer number: -1\n",
      "please input a integer number: 1\n",
      "please input a integer number: 0\n"
     ]
    },
    {
     "name": "stdout",
     "output_type": "stream",
     "text": [
      "The greatest number among them is: 1\n"
     ]
    }
   ],
   "source": [
    "x= int(input(\"please input a integer number:\"))\n",
    "y= int(input(\"please input a integer number:\"))\n",
    "z= int(input(\"please input a integer number:\"))\n",
    "if x>y and y>z:\n",
    "    print(\"The greatest number among them is:\", x)\n",
    "if y>x and y>z:\n",
    "    print (\"The greatest number among them is:\",y)\n",
    "else:\n",
    "    print(\"The greatest number among them is:\",z)"
   ]
  },
  {
   "cell_type": "code",
   "execution_count": null,
   "id": "ece184c1-8298-4342-be7a-b67dc47744fb",
   "metadata": {},
   "outputs": [],
   "source": []
  }
 ],
 "metadata": {
  "kernelspec": {
   "display_name": "Python 3 (ipykernel)",
   "language": "python",
   "name": "python3"
  },
  "language_info": {
   "codemirror_mode": {
    "name": "ipython",
    "version": 3
   },
   "file_extension": ".py",
   "mimetype": "text/x-python",
   "name": "python",
   "nbconvert_exporter": "python",
   "pygments_lexer": "ipython3",
   "version": "3.11.4"
  }
 },
 "nbformat": 4,
 "nbformat_minor": 5
}
