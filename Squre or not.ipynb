{
 "cells": [
  {
   "cell_type": "code",
   "execution_count": null,
   "id": "e700357a-0eb4-49c7-b97a-60cf6ab806d5",
   "metadata": {},
   "outputs": [],
   "source": [
    "#Take values of the length & breadth of a rectangle from user input and check if it is square or not"
   ]
  },
  {
   "cell_type": "code",
   "execution_count": 8,
   "id": "9515fac3-e31a-486a-a0a8-e16321d70b6b",
   "metadata": {},
   "outputs": [
    {
     "name": "stdin",
     "output_type": "stream",
     "text": [
      "PLs input Length 2\n",
      "pls input breadth of a rectangle 3\n"
     ]
    }
   ],
   "source": [
    "x=float(input(\"Please input the length: \"))\n",
    "y= float(input(\"Please input the breadth of the rectangle: \"))"
   ]
  },
  {
   "cell_type": "code",
   "execution_count": 9,
   "id": "7f5d47f5-1195-4ec3-942c-7e0ac4ae122c",
   "metadata": {},
   "outputs": [
    {
     "name": "stdout",
     "output_type": "stream",
     "text": [
      "its not square\n"
     ]
    }
   ],
   "source": [
    "if x<=0 or y<=0:\n",
    "    print(\"leangth and Breath must be a positve number\")\n",
    "else:\n",
    "    if x==y:\n",
    "        print(\"It's a square.\")\n",
    "    else:\n",
    "        print(\"It's not a square.\")\n"
   ]
  }
 ],
 "metadata": {
  "kernelspec": {
   "display_name": "Python 3 (ipykernel)",
   "language": "python",
   "name": "python3"
  },
  "language_info": {
   "codemirror_mode": {
    "name": "ipython",
    "version": 3
   },
   "file_extension": ".py",
   "mimetype": "text/x-python",
   "name": "python",
   "nbconvert_exporter": "python",
   "pygments_lexer": "ipython3",
   "version": "3.11.4"
  }
 },
 "nbformat": 4,
 "nbformat_minor": 5
}
