{
 "cells": [
  {
   "cell_type": "code",
   "execution_count": null,
   "id": "e3de17f8-88c4-4676-ab66-37af18caed9f",
   "metadata": {},
   "outputs": [],
   "source": [
    "#Write a program to sum all prime numbers within a range of 10 to 1000."
   ]
  },
  {
   "cell_type": "code",
   "execution_count": 10,
   "id": "9ed14652-9c4b-4ee1-bbbb-35112070e7d1",
   "metadata": {},
   "outputs": [
    {
     "name": "stdout",
     "output_type": "stream",
     "text": [
      "Sum of prime numbers between 10 and 1000 is: 76110\n"
     ]
    }
   ],
   "source": [
    "def is_prime(num):\n",
    "    if num <= 1:\n",
    "        return False\n",
    "    for i in range(2, num):\n",
    "        if num % i == 0:\n",
    "            return False\n",
    "    return True\n",
    "\n",
    "start_range = 10\n",
    "end_range = 1000\n",
    "prime_sum = 0\n",
    "\n",
    "for number in range(start_range, end_range + 1):\n",
    "    if is_prime(number):\n",
    "        prime_sum += number\n",
    "\n",
    "print(\"Sum of prime numbers between\", start_range, \"and\", end_range, \"is:\", prime_sum)\n"
   ]
  },
  {
   "cell_type": "code",
   "execution_count": null,
   "id": "fcc13232-bab8-4e2c-a828-40660949f4ba",
   "metadata": {},
   "outputs": [],
   "source": []
  },
  {
   "cell_type": "code",
   "execution_count": null,
   "id": "99a16fb6-b5ae-4b91-9a52-f6223b68efdb",
   "metadata": {},
   "outputs": [],
   "source": []
  }
 ],
 "metadata": {
  "kernelspec": {
   "display_name": "Python 3 (ipykernel)",
   "language": "python",
   "name": "python3"
  },
  "language_info": {
   "codemirror_mode": {
    "name": "ipython",
    "version": 3
   },
   "file_extension": ".py",
   "mimetype": "text/x-python",
   "name": "python",
   "nbconvert_exporter": "python",
   "pygments_lexer": "ipython3",
   "version": "3.11.4"
  }
 },
 "nbformat": 4,
 "nbformat_minor": 5
}
