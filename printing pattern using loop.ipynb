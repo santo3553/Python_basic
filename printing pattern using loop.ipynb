{
 "cells": [
  {
   "cell_type": "code",
   "execution_count": 3,
   "id": "d0b0b0f4-42f9-4b63-9874-575e5528c420",
   "metadata": {},
   "outputs": [
    {
     "data": {
      "text/plain": [
       "'Print the following pattern using for and while loop.\\n1 2 3 4 5 6 7\\n1 2 3 4 5 6\\n1 2 3 4 5\\n1 2 3 4'"
      ]
     },
     "execution_count": 3,
     "metadata": {},
     "output_type": "execute_result"
    }
   ],
   "source": [
    "\"\"\"Print the following pattern using for and while loop.\n",
    "1 2 3 4 5 6 7\n",
    "1 2 3 4 5 6\n",
    "1 2 3 4 5\n",
    "1 2 3 4\"\"\""
   ]
  },
  {
   "cell_type": "code",
   "execution_count": 24,
   "id": "7963d4c5-3771-439b-b03c-7cdc9e71af35",
   "metadata": {},
   "outputs": [
    {
     "name": "stdout",
     "output_type": "stream",
     "text": [
      "1234567\n",
      "123456\n",
      "12345\n",
      "1234\n"
     ]
    }
   ],
   "source": [
    "# Using for loop\n",
    "for i in range(7, 3, -1):  # Start from 7 and go down to 4 (exclusive)\n",
    "    for j in range(1, i +  1):\n",
    "        print(j, end=' ')\n",
    "    print()"
   ]
  },
  {
   "cell_type": "code",
   "execution_count": 29,
   "id": "fa2d370b-dcbf-414d-981d-a0a94050d564",
   "metadata": {},
   "outputs": [
    {
     "name": "stdout",
     "output_type": "stream",
     "text": [
      "1 2 3 4 5 6 7 \n",
      "1 2 3 4 5 6 \n",
      "1 2 3 4 5 \n",
      "1 2 3 4 \n"
     ]
    }
   ],
   "source": [
    "# Using while loop\n",
    "i = 7\n",
    "while i >3 :\n",
    "    j = 1\n",
    "    while j <= i:\n",
    "        print(j, end=' ')\n",
    "        j += 1\n",
    "    print()\n",
    "    i -= 1\n"
   ]
  },
  {
   "cell_type": "code",
   "execution_count": null,
   "id": "cd93ae16-29e6-49fa-af27-1ceb2756923b",
   "metadata": {},
   "outputs": [],
   "source": []
  }
 ],
 "metadata": {
  "kernelspec": {
   "display_name": "Python 3 (ipykernel)",
   "language": "python",
   "name": "python3"
  },
  "language_info": {
   "codemirror_mode": {
    "name": "ipython",
    "version": 3
   },
   "file_extension": ".py",
   "mimetype": "text/x-python",
   "name": "python",
   "nbconvert_exporter": "python",
   "pygments_lexer": "ipython3",
   "version": "3.11.4"
  }
 },
 "nbformat": 4,
 "nbformat_minor": 5
}
